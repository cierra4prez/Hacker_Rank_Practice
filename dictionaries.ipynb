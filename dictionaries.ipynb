{
 "cells": [
  {
   "cell_type": "markdown",
   "metadata": {},
   "source": [
    "## Practice with dictionaries"
   ]
  },
  {
   "cell_type": "code",
   "execution_count": 1,
   "metadata": {
    "ExecuteTime": {
     "end_time": "2021-04-15T22:20:27.292468Z",
     "start_time": "2021-04-15T22:20:27.267929Z"
    }
   },
   "outputs": [],
   "source": [
    "n = 3\n",
    "\n",
    "n1 = 'sam 99912222'\n",
    "n2 = 'tom 11122222'\n",
    "n3 = 'harry 12299933'\n",
    "\n",
    "q1 = 'sam'\n",
    "q2 = 'edward'\n",
    "q3 = 'harry'"
   ]
  },
  {
   "cell_type": "markdown",
   "metadata": {},
   "source": [
    "##### Create a dictionary"
   ]
  },
  {
   "cell_type": "code",
   "execution_count": 2,
   "metadata": {
    "ExecuteTime": {
     "end_time": "2021-04-15T22:20:30.198872Z",
     "start_time": "2021-04-15T22:20:30.180683Z"
    }
   },
   "outputs": [
    {
     "data": {
      "text/plain": [
       "['sam', '99912222']"
      ]
     },
     "execution_count": 2,
     "metadata": {},
     "output_type": "execute_result"
    }
   ],
   "source": [
    "# separate name from numbers\n",
    "n1 = n1.split()\n",
    "n1"
   ]
  },
  {
   "cell_type": "code",
   "execution_count": 75,
   "metadata": {
    "ExecuteTime": {
     "end_time": "2021-04-15T20:49:31.297987Z",
     "start_time": "2021-04-15T20:49:31.289588Z"
    },
    "scrolled": true
   },
   "outputs": [
    {
     "name": "stdout",
     "output_type": "stream",
     "text": [
      "sam=99912222\n"
     ]
    }
   ],
   "source": [
    "# print(name+'='+num)"
   ]
  },
  {
   "cell_type": "code",
   "execution_count": 3,
   "metadata": {
    "ExecuteTime": {
     "end_time": "2021-04-15T22:20:39.685151Z",
     "start_time": "2021-04-15T22:20:39.679194Z"
    }
   },
   "outputs": [
    {
     "data": {
      "text/plain": [
       "{'sam': '99912222'}"
      ]
     },
     "execution_count": 3,
     "metadata": {},
     "output_type": "execute_result"
    }
   ],
   "source": [
    "{n1[0]:n1[1]}"
   ]
  },
  {
   "cell_type": "code",
   "execution_count": 4,
   "metadata": {
    "ExecuteTime": {
     "end_time": "2021-04-15T22:22:00.352976Z",
     "start_time": "2021-04-15T22:21:29.020852Z"
    }
   },
   "outputs": [
    {
     "name": "stdout",
     "output_type": "stream",
     "text": [
      "3\n",
      "sam 99912222\n",
      "tom 11122222\n",
      "harry 12299933\n"
     ]
    }
   ],
   "source": [
    "N = int(input())\n",
    "\n",
    "# Create a dictionary\n",
    "phonebook = dict(input().split() for x in range(N))"
   ]
  },
  {
   "cell_type": "code",
   "execution_count": 5,
   "metadata": {
    "ExecuteTime": {
     "end_time": "2021-04-15T22:22:08.429455Z",
     "start_time": "2021-04-15T22:22:08.421778Z"
    }
   },
   "outputs": [
    {
     "data": {
      "text/plain": [
       "{'sam': '99912222', 'tom': '11122222', 'harry': '12299933'}"
      ]
     },
     "execution_count": 5,
     "metadata": {},
     "output_type": "execute_result"
    }
   ],
   "source": [
    "phonebook"
   ]
  },
  {
   "cell_type": "code",
   "execution_count": 7,
   "metadata": {
    "ExecuteTime": {
     "end_time": "2021-04-15T22:28:03.320225Z",
     "start_time": "2021-04-15T22:27:20.467910Z"
    }
   },
   "outputs": [
    {
     "name": "stdout",
     "output_type": "stream",
     "text": [
      "3\n",
      "sam 99912222\n",
      "tom 11122222\n",
      "harry 12299933\n",
      "sam\n",
      "99912222\n",
      "edward\n",
      "Not found\n",
      "harry\n",
      "12299933\n",
      "\n",
      "Not found\n",
      "\n",
      "Not found\n",
      "\n",
      "Not found\n"
     ]
    }
   ],
   "source": [
    "N = int(input())\n",
    "\n",
    "# Create a dictionary\n",
    "phonebook = dict(input().split() for x in range(N))\n",
    "while True:\n",
    "    try:\n",
    "        name = input()\n",
    "        if name in phonebook:\n",
    "            print(phonebook[name])\n",
    "        else:\n",
    "            print('Not found')\n",
    "    except:\n",
    "        break"
   ]
  },
  {
   "cell_type": "code",
   "execution_count": null,
   "metadata": {},
   "outputs": [],
   "source": []
  }
 ],
 "metadata": {
  "kernelspec": {
   "display_name": "Python 3",
   "language": "python",
   "name": "python3"
  },
  "language_info": {
   "codemirror_mode": {
    "name": "ipython",
    "version": 3
   },
   "file_extension": ".py",
   "mimetype": "text/x-python",
   "name": "python",
   "nbconvert_exporter": "python",
   "pygments_lexer": "ipython3",
   "version": "3.6.9"
  },
  "toc": {
   "base_numbering": 1,
   "nav_menu": {},
   "number_sections": true,
   "sideBar": true,
   "skip_h1_title": false,
   "title_cell": "Table of Contents",
   "title_sidebar": "Contents",
   "toc_cell": false,
   "toc_position": {},
   "toc_section_display": true,
   "toc_window_display": false
  }
 },
 "nbformat": 4,
 "nbformat_minor": 4
}
