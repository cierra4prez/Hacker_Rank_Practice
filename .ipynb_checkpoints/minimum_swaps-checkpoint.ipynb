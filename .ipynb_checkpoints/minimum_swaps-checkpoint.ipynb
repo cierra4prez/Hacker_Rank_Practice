{
 "cells": [
  {
   "cell_type": "markdown",
   "metadata": {},
   "source": [
    "## HackerRank: Minimum Swaps\n",
    "Find the minimum number of swaps required to sort the array in ascending order.\n",
    "\n",
    "link to problem: https://www.hackerrank.com/challenges/minimum-swaps-2/problem"
   ]
  },
  {
   "cell_type": "code",
   "execution_count": 1,
   "metadata": {
    "ExecuteTime": {
     "end_time": "2021-09-20T22:02:17.417017Z",
     "start_time": "2021-09-20T22:02:17.400096Z"
    }
   },
   "outputs": [],
   "source": [
    "# Sample input\n",
    "n = 5\n",
    "arr = [2, 3, 4, 1, 5]"
   ]
  },
  {
   "cell_type": "code",
   "execution_count": 2,
   "metadata": {
    "ExecuteTime": {
     "end_time": "2021-09-20T22:02:17.450721Z",
     "start_time": "2021-09-20T22:02:17.427085Z"
    }
   },
   "outputs": [
    {
     "data": {
      "text/plain": [
       "[1, 2, 3, 4, 5]"
      ]
     },
     "execution_count": 2,
     "metadata": {},
     "output_type": "execute_result"
    }
   ],
   "source": [
    "# correctly sorted (reference) array\n",
    "ref_array = sorted(arr)\n",
    "ref_array"
   ]
  },
  {
   "cell_type": "code",
   "execution_count": 3,
   "metadata": {
    "ExecuteTime": {
     "end_time": "2021-09-20T22:02:17.470454Z",
     "start_time": "2021-09-20T22:02:17.461876Z"
    }
   },
   "outputs": [
    {
     "data": {
      "text/plain": [
       "[(0, 2), (1, 3), (2, 4), (3, 1), (4, 5)]"
      ]
     },
     "execution_count": 3,
     "metadata": {},
     "output_type": "execute_result"
    }
   ],
   "source": [
    "# Enumerated array\n",
    "list(enumerate(arr))"
   ]
  },
  {
   "cell_type": "code",
   "execution_count": 4,
   "metadata": {
    "ExecuteTime": {
     "end_time": "2021-09-20T22:02:17.485187Z",
     "start_time": "2021-09-20T22:02:17.474713Z"
    }
   },
   "outputs": [
    {
     "data": {
      "text/plain": [
       "{0: 2, 1: 3, 2: 4, 3: 1, 4: 5}"
      ]
     },
     "execution_count": 4,
     "metadata": {},
     "output_type": "execute_result"
    }
   ],
   "source": [
    "index_dict = {val: idx for val,idx in enumerate(arr)}\n",
    "index_dict"
   ]
  },
  {
   "cell_type": "code",
   "execution_count": 5,
   "metadata": {
    "ExecuteTime": {
     "end_time": "2021-09-20T22:02:17.517492Z",
     "start_time": "2021-09-20T22:02:17.489723Z"
    }
   },
   "outputs": [
    {
     "data": {
      "text/plain": [
       "{2: 0, 3: 1, 4: 2, 1: 3, 5: 4}"
      ]
     },
     "execution_count": 5,
     "metadata": {},
     "output_type": "execute_result"
    }
   ],
   "source": [
    "# Turn enumerated array into dictionary that we can reference\n",
    "index_dict = {val: idx for idx,val in enumerate(arr)}\n",
    "index_dict"
   ]
  },
  {
   "cell_type": "markdown",
   "metadata": {},
   "source": [
    "Piecing the function together"
   ]
  },
  {
   "cell_type": "code",
   "execution_count": 6,
   "metadata": {
    "ExecuteTime": {
     "end_time": "2021-09-20T22:02:17.536776Z",
     "start_time": "2021-09-20T22:02:17.528248Z"
    }
   },
   "outputs": [],
   "source": [
    "# Sample input\n",
    "n = 5\n",
    "arr = [2, 3, 4, 1, 5]"
   ]
  },
  {
   "cell_type": "code",
   "execution_count": 7,
   "metadata": {
    "ExecuteTime": {
     "end_time": "2021-09-20T22:02:17.574536Z",
     "start_time": "2021-09-20T22:02:17.548314Z"
    }
   },
   "outputs": [],
   "source": [
    "# Piecing the function together\n",
    "ref_array = sorted(arr)\n",
    "index_dict = {val: idx for idx,val in enumerate(arr)}\n",
    "swaps = 0 #counting number of swaps\n",
    "\n",
    "for idx,val in enumerate(arr):\n",
    "        correct_value = ref_array[idx] #returns 1 2 3 4 5\n",
    "        if val != correct_value:\n",
    "            swap_idx = index_dict[correct_value] # finding correct index \n",
    "            #arr[swap_idx], arr[idx] = arr[idx], arr[swap_idx] #swapping values to correct index\n",
    "            #index_dict[val] = swap_idx\n",
    "            #swaps += 1"
   ]
  },
  {
   "cell_type": "code",
   "execution_count": 8,
   "metadata": {
    "ExecuteTime": {
     "end_time": "2021-09-20T22:02:17.600175Z",
     "start_time": "2021-09-20T22:02:17.584645Z"
    }
   },
   "outputs": [
    {
     "data": {
      "text/plain": [
       "2"
      ]
     },
     "execution_count": 8,
     "metadata": {},
     "output_type": "execute_result"
    }
   ],
   "source": [
    "swap_idx"
   ]
  },
  {
   "cell_type": "code",
   "execution_count": 9,
   "metadata": {
    "ExecuteTime": {
     "end_time": "2021-09-20T22:02:17.634138Z",
     "start_time": "2021-09-20T22:02:17.612780Z"
    }
   },
   "outputs": [
    {
     "data": {
      "text/plain": [
       "4"
      ]
     },
     "execution_count": 9,
     "metadata": {},
     "output_type": "execute_result"
    }
   ],
   "source": [
    "index_dict[correct_value] #index of the correct value"
   ]
  },
  {
   "cell_type": "code",
   "execution_count": 10,
   "metadata": {
    "ExecuteTime": {
     "end_time": "2021-09-20T22:02:17.668736Z",
     "start_time": "2021-09-20T22:02:17.656476Z"
    }
   },
   "outputs": [
    {
     "data": {
      "text/plain": [
       "5"
      ]
     },
     "execution_count": 10,
     "metadata": {},
     "output_type": "execute_result"
    }
   ],
   "source": [
    "correct_value"
   ]
  },
  {
   "cell_type": "code",
   "execution_count": 11,
   "metadata": {
    "ExecuteTime": {
     "end_time": "2021-09-20T22:02:17.699760Z",
     "start_time": "2021-09-20T22:02:17.678647Z"
    }
   },
   "outputs": [
    {
     "name": "stdout",
     "output_type": "stream",
     "text": [
      "[2, 3, 4, 1, 5]\n",
      "swaps: 0\n"
     ]
    }
   ],
   "source": [
    "# Result\n",
    "print(arr)\n",
    "print(\"swaps:\", swaps)"
   ]
  },
  {
   "cell_type": "code",
   "execution_count": null,
   "metadata": {},
   "outputs": [],
   "source": []
  },
  {
   "cell_type": "code",
   "execution_count": null,
   "metadata": {},
   "outputs": [],
   "source": []
  }
 ],
 "metadata": {
  "kernelspec": {
   "display_name": "Python 3",
   "language": "python",
   "name": "python3"
  },
  "language_info": {
   "codemirror_mode": {
    "name": "ipython",
    "version": 3
   },
   "file_extension": ".py",
   "mimetype": "text/x-python",
   "name": "python",
   "nbconvert_exporter": "python",
   "pygments_lexer": "ipython3",
   "version": "3.6.9"
  },
  "toc": {
   "base_numbering": 1,
   "nav_menu": {},
   "number_sections": true,
   "sideBar": true,
   "skip_h1_title": false,
   "title_cell": "Table of Contents",
   "title_sidebar": "Contents",
   "toc_cell": false,
   "toc_position": {},
   "toc_section_display": true,
   "toc_window_display": false
  }
 },
 "nbformat": 4,
 "nbformat_minor": 4
}
