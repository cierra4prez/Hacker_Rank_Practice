{
 "cells": [
  {
   "cell_type": "markdown",
   "metadata": {},
   "source": [
    "## Practice with dictionaries"
   ]
  },
  {
   "cell_type": "code",
   "execution_count": 1,
   "metadata": {
    "ExecuteTime": {
     "end_time": "2021-05-04T01:51:52.683598Z",
     "start_time": "2021-05-04T01:51:52.669218Z"
    }
   },
   "outputs": [],
   "source": [
    "n = 3\n",
    "\n",
    "n1 = 'sam 99912222'\n",
    "n2 = 'tom 11122222'\n",
    "n3 = 'harry 12299933'\n",
    "\n",
    "q1 = 'sam'\n",
    "q2 = 'edward'\n",
    "q3 = 'harry'"
   ]
  },
  {
   "cell_type": "markdown",
   "metadata": {},
   "source": [
    "##### Create a dictionary"
   ]
  },
  {
   "cell_type": "code",
   "execution_count": 2,
   "metadata": {
    "ExecuteTime": {
     "end_time": "2021-05-04T01:51:52.723172Z",
     "start_time": "2021-05-04T01:51:52.701934Z"
    }
   },
   "outputs": [
    {
     "data": {
      "text/plain": [
       "['sam', '99912222']"
      ]
     },
     "execution_count": 2,
     "metadata": {},
     "output_type": "execute_result"
    }
   ],
   "source": [
    "# separate name from numbers\n",
    "n1 = n1.split()\n",
    "n1"
   ]
  },
  {
   "cell_type": "code",
   "execution_count": 3,
   "metadata": {
    "ExecuteTime": {
     "end_time": "2021-05-04T01:51:52.758610Z",
     "start_time": "2021-05-04T01:51:52.749428Z"
    },
    "scrolled": true
   },
   "outputs": [],
   "source": [
    "# print(name+'='+num)"
   ]
  },
  {
   "cell_type": "code",
   "execution_count": 4,
   "metadata": {
    "ExecuteTime": {
     "end_time": "2021-05-04T01:51:52.774874Z",
     "start_time": "2021-05-04T01:51:52.766682Z"
    }
   },
   "outputs": [
    {
     "data": {
      "text/plain": [
       "{'sam': '99912222'}"
      ]
     },
     "execution_count": 4,
     "metadata": {},
     "output_type": "execute_result"
    }
   ],
   "source": [
    "# assign a key to value\n",
    "{n1[0]:n1[1]}"
   ]
  },
  {
   "cell_type": "code",
   "execution_count": 5,
   "metadata": {
    "ExecuteTime": {
     "end_time": "2021-05-04T01:52:21.129554Z",
     "start_time": "2021-05-04T01:51:52.779033Z"
    }
   },
   "outputs": [
    {
     "name": "stdout",
     "output_type": "stream",
     "text": [
      "1\n",
      "sam 99912222\n"
     ]
    }
   ],
   "source": [
    "N = int(input())\n",
    "\n",
    "# Create a dictionary\n",
    "phonebook = dict(input().split() for x in range(N))"
   ]
  },
  {
   "cell_type": "code",
   "execution_count": 6,
   "metadata": {
    "ExecuteTime": {
     "end_time": "2021-05-04T01:52:21.198267Z",
     "start_time": "2021-05-04T01:52:21.137701Z"
    }
   },
   "outputs": [
    {
     "data": {
      "text/plain": [
       "{'sam': '99912222'}"
      ]
     },
     "execution_count": 6,
     "metadata": {},
     "output_type": "execute_result"
    }
   ],
   "source": [
    "phonebook"
   ]
  },
  {
   "cell_type": "code",
   "execution_count": 7,
   "metadata": {
    "ExecuteTime": {
     "end_time": "2021-05-04T01:52:35.297983Z",
     "start_time": "2021-05-04T01:52:21.220449Z"
    }
   },
   "outputs": [
    {
     "name": "stdout",
     "output_type": "stream",
     "text": [
      "1\n",
      "sam 99912222\n",
      "sam 99912222\n",
      "Not found\n",
      "\n",
      "Not found\n"
     ]
    }
   ],
   "source": [
    "N = int(input())\n",
    "\n",
    "# Create a dictionary\n",
    "phonebook = dict(input().split() for x in range(N))\n",
    "while True:\n",
    "    try:\n",
    "        name = input()\n",
    "        if name in phonebook:\n",
    "            print(phonebook[name])\n",
    "        else:\n",
    "            print('Not found')\n",
    "    except:\n",
    "        break"
   ]
  },
  {
   "cell_type": "code",
   "execution_count": null,
   "metadata": {},
   "outputs": [],
   "source": []
  },
  {
   "cell_type": "code",
   "execution_count": null,
   "metadata": {},
   "outputs": [],
   "source": []
  },
  {
   "cell_type": "code",
   "execution_count": null,
   "metadata": {},
   "outputs": [],
   "source": []
  },
  {
   "cell_type": "markdown",
   "metadata": {},
   "source": [
    "## CodeWars: replace with alphabet position\n",
    "link to problem: https://www.codewars.com/kata/546f922b54af40e1e90001da/train/python"
   ]
  },
  {
   "cell_type": "code",
   "execution_count": 14,
   "metadata": {
    "ExecuteTime": {
     "end_time": "2021-05-04T01:52:39.699013Z",
     "start_time": "2021-05-04T01:52:39.692848Z"
    }
   },
   "outputs": [],
   "source": [
    "import string\n",
    "\n",
    "letters = list(string.ascii_lowercase)\n",
    "# letters ## list of all letters"
   ]
  },
  {
   "cell_type": "code",
   "execution_count": 15,
   "metadata": {
    "ExecuteTime": {
     "end_time": "2021-05-04T01:52:40.053288Z",
     "start_time": "2021-05-04T01:52:40.048892Z"
    }
   },
   "outputs": [],
   "source": [
    "nums = list(range(1,27))"
   ]
  },
  {
   "cell_type": "code",
   "execution_count": 16,
   "metadata": {
    "ExecuteTime": {
     "end_time": "2021-05-04T01:52:40.588177Z",
     "start_time": "2021-05-04T01:52:40.580151Z"
    }
   },
   "outputs": [
    {
     "data": {
      "text/plain": [
       "{'a': 1,\n",
       " 'b': 2,\n",
       " 'c': 3,\n",
       " 'd': 4,\n",
       " 'e': 5,\n",
       " 'f': 6,\n",
       " 'g': 7,\n",
       " 'h': 8,\n",
       " 'i': 9,\n",
       " 'j': 10,\n",
       " 'k': 11,\n",
       " 'l': 12,\n",
       " 'm': 13,\n",
       " 'n': 14,\n",
       " 'o': 15,\n",
       " 'p': 16,\n",
       " 'q': 17,\n",
       " 'r': 18,\n",
       " 's': 19,\n",
       " 't': 20,\n",
       " 'u': 21,\n",
       " 'v': 22,\n",
       " 'w': 23,\n",
       " 'x': 24,\n",
       " 'y': 25,\n",
       " 'z': 26}"
      ]
     },
     "execution_count": 16,
     "metadata": {},
     "output_type": "execute_result"
    }
   ],
   "source": [
    "res = {letters[i]: nums[i] for i in range(len(letters))}\n",
    "res"
   ]
  },
  {
   "cell_type": "code",
   "execution_count": 17,
   "metadata": {
    "ExecuteTime": {
     "end_time": "2021-05-04T01:52:41.881848Z",
     "start_time": "2021-05-04T01:52:41.867318Z"
    }
   },
   "outputs": [
    {
     "name": "stdout",
     "output_type": "stream",
     "text": [
      "1\n",
      "2\n",
      "3\n",
      "4\n",
      "5\n",
      "6\n",
      "7\n",
      "8\n",
      "9\n",
      "10\n",
      "11\n",
      "12\n",
      "13\n",
      "14\n",
      "15\n",
      "16\n",
      "17\n",
      "18\n",
      "19\n",
      "20\n",
      "21\n",
      "22\n",
      "23\n",
      "24\n",
      "25\n",
      "26\n"
     ]
    }
   ],
   "source": [
    "for i in res:\n",
    "    print(res[i])"
   ]
  },
  {
   "cell_type": "code",
   "execution_count": 18,
   "metadata": {
    "ExecuteTime": {
     "end_time": "2021-05-04T01:52:42.716098Z",
     "start_time": "2021-05-04T01:52:42.709627Z"
    }
   },
   "outputs": [],
   "source": [
    "phrase = \"The sunset sets at twelve o' clock.\""
   ]
  },
  {
   "cell_type": "code",
   "execution_count": 19,
   "metadata": {
    "ExecuteTime": {
     "end_time": "2021-05-04T01:52:43.987356Z",
     "start_time": "2021-05-04T01:52:43.975269Z"
    }
   },
   "outputs": [
    {
     "ename": "NameError",
     "evalue": "name 're' is not defined",
     "output_type": "error",
     "traceback": [
      "\u001b[0;31m--------------------\u001b[0m",
      "\u001b[0;31mNameError\u001b[0mTraceback (most recent call last)",
      "\u001b[0;32m<ipython-input-19-b78f63234b68>\u001b[0m in \u001b[0;36m<module>\u001b[0;34m()\u001b[0m\n\u001b[0;32m----> 1\u001b[0;31m \u001b[0mphrase\u001b[0m \u001b[0;34m=\u001b[0m \u001b[0mre\u001b[0m\u001b[0;34m.\u001b[0m\u001b[0msub\u001b[0m\u001b[0;34m(\u001b[0m\u001b[0;34mr'[^\\w\\s]'\u001b[0m\u001b[0;34m,\u001b[0m \u001b[0;34m''\u001b[0m\u001b[0;34m,\u001b[0m \u001b[0mphrase\u001b[0m\u001b[0;34m.\u001b[0m\u001b[0mlower\u001b[0m\u001b[0;34m(\u001b[0m\u001b[0;34m)\u001b[0m\u001b[0;34m)\u001b[0m\u001b[0;34m\u001b[0m\u001b[0;34m\u001b[0m\u001b[0m\n\u001b[0m",
      "\u001b[0;31mNameError\u001b[0m: name 're' is not defined"
     ]
    }
   ],
   "source": [
    "phrase = re.sub(r'[^\\w\\s]', '', phrase.lower())"
   ]
  },
  {
   "cell_type": "code",
   "execution_count": 20,
   "metadata": {
    "ExecuteTime": {
     "end_time": "2021-05-04T01:52:46.511375Z",
     "start_time": "2021-05-04T01:52:46.501994Z"
    },
    "scrolled": true
   },
   "outputs": [
    {
     "data": {
      "text/plain": [
       "'The sunset sets at twelve o clock'"
      ]
     },
     "execution_count": 20,
     "metadata": {},
     "output_type": "execute_result"
    }
   ],
   "source": [
    "import re\n",
    "res = re.sub(r'[^\\w\\s]', '', phrase)\n",
    "res"
   ]
  },
  {
   "cell_type": "code",
   "execution_count": 21,
   "metadata": {
    "ExecuteTime": {
     "end_time": "2021-05-04T01:52:47.616213Z",
     "start_time": "2021-05-04T01:52:47.610198Z"
    }
   },
   "outputs": [
    {
     "data": {
      "text/plain": [
       "\"Thesunsetsetsattwelveo'clock.\""
      ]
     },
     "execution_count": 21,
     "metadata": {},
     "output_type": "execute_result"
    }
   ],
   "source": [
    "\"\".join(phrase.split())"
   ]
  },
  {
   "cell_type": "markdown",
   "metadata": {},
   "source": [
    "Process:\n",
    "1. look at each letter and change to a number\n",
    "2. ignore spaces and punctuation? aka: only if `text.isalpha()`\n",
    "3. return a string of numbers"
   ]
  },
  {
   "cell_type": "code",
   "execution_count": 22,
   "metadata": {
    "ExecuteTime": {
     "end_time": "2021-05-04T01:52:49.203510Z",
     "start_time": "2021-05-04T01:52:49.192134Z"
    }
   },
   "outputs": [],
   "source": [
    "import re\n",
    "\n",
    "def alphabet_position(text):\n",
    "    import string\n",
    "    #ignore spaces and punctuation\n",
    "    text = \"\".join(text.lower().split()) #lowercase and remove spaces\n",
    "    text = re.sub(r'[^\\w\\s]', '', text) #remove punctuation\n",
    "    final_string = []\n",
    "    \n",
    "    for i in text:\n",
    "        letters = list(string.ascii_lowercase) ## list of all letters\n",
    "        nums = list(range(1,27)) ## list of numbers\n",
    "\n",
    "        res = {letters[i]: nums[i] for i in range(len(letters))} ## dictionary mapping letters to corresponding number\n",
    "        \n",
    "        final_string.append(res[i]) #### convert output to a string ####\n",
    "    print(final_string)\n"
   ]
  },
  {
   "cell_type": "code",
   "execution_count": 23,
   "metadata": {
    "ExecuteTime": {
     "end_time": "2021-05-04T01:52:50.452861Z",
     "start_time": "2021-05-04T01:52:50.447463Z"
    },
    "scrolled": false
   },
   "outputs": [
    {
     "name": "stdout",
     "output_type": "stream",
     "text": [
      "[20, 8, 5, 19, 21, 14, 19, 5, 20, 19, 5, 20, 19, 1, 20, 20, 23, 5, 12, 22, 5, 15, 3, 12, 15, 3, 11]\n"
     ]
    }
   ],
   "source": [
    "alphabet_position(phrase)"
   ]
  },
  {
   "cell_type": "markdown",
   "metadata": {},
   "source": [
    "### attempt #2:"
   ]
  },
  {
   "cell_type": "code",
   "execution_count": 24,
   "metadata": {
    "ExecuteTime": {
     "end_time": "2021-05-04T01:52:52.462721Z",
     "start_time": "2021-05-04T01:52:52.455354Z"
    }
   },
   "outputs": [
    {
     "data": {
      "text/plain": [
       "'abcdefghijklmnopqrstuvwxyz'"
      ]
     },
     "execution_count": 24,
     "metadata": {},
     "output_type": "execute_result"
    }
   ],
   "source": [
    "import string\n",
    "alph = string.ascii_lowercase\n",
    "alph"
   ]
  },
  {
   "cell_type": "code",
   "execution_count": 25,
   "metadata": {
    "ExecuteTime": {
     "end_time": "2021-05-04T01:52:53.053347Z",
     "start_time": "2021-05-04T01:52:53.046534Z"
    }
   },
   "outputs": [
    {
     "data": {
      "text/plain": [
       "[(0, 'a'), (1, 'b'), (2, 'c')]"
      ]
     },
     "execution_count": 25,
     "metadata": {},
     "output_type": "execute_result"
    }
   ],
   "source": [
    "a= 'abc'\n",
    "list(enumerate(a))"
   ]
  },
  {
   "cell_type": "code",
   "execution_count": 26,
   "metadata": {
    "ExecuteTime": {
     "end_time": "2021-05-04T01:52:53.488059Z",
     "start_time": "2021-05-04T01:52:53.481327Z"
    }
   },
   "outputs": [
    {
     "data": {
      "text/plain": [
       "{1: 'a',\n",
       " 2: 'b',\n",
       " 3: 'c',\n",
       " 4: 'd',\n",
       " 5: 'e',\n",
       " 6: 'f',\n",
       " 7: 'g',\n",
       " 8: 'h',\n",
       " 9: 'i',\n",
       " 10: 'j',\n",
       " 11: 'k',\n",
       " 12: 'l',\n",
       " 13: 'm',\n",
       " 14: 'n',\n",
       " 15: 'o',\n",
       " 16: 'p',\n",
       " 17: 'q',\n",
       " 18: 'r',\n",
       " 19: 's',\n",
       " 20: 't',\n",
       " 21: 'u',\n",
       " 22: 'v',\n",
       " 23: 'w',\n",
       " 24: 'x',\n",
       " 25: 'y',\n",
       " 26: 'z'}"
      ]
     },
     "execution_count": 26,
     "metadata": {},
     "output_type": "execute_result"
    }
   ],
   "source": [
    "dict(enumerate(alph, start=1)) #this code needs to reverse key/value pairs"
   ]
  },
  {
   "cell_type": "code",
   "execution_count": 27,
   "metadata": {
    "ExecuteTime": {
     "end_time": "2021-05-04T01:52:54.424183Z",
     "start_time": "2021-05-04T01:52:54.415150Z"
    }
   },
   "outputs": [
    {
     "data": {
      "text/plain": [
       "{'a': 1,\n",
       " 'b': 2,\n",
       " 'c': 3,\n",
       " 'd': 4,\n",
       " 'e': 5,\n",
       " 'f': 6,\n",
       " 'g': 7,\n",
       " 'h': 8,\n",
       " 'i': 9,\n",
       " 'j': 10,\n",
       " 'k': 11,\n",
       " 'l': 12,\n",
       " 'm': 13,\n",
       " 'n': 14,\n",
       " 'o': 15,\n",
       " 'p': 16,\n",
       " 'q': 17,\n",
       " 'r': 18,\n",
       " 's': 19,\n",
       " 't': 20,\n",
       " 'u': 21,\n",
       " 'v': 22,\n",
       " 'w': 23,\n",
       " 'x': 24,\n",
       " 'y': 25,\n",
       " 'z': 26}"
      ]
     },
     "execution_count": 27,
     "metadata": {},
     "output_type": "execute_result"
    }
   ],
   "source": [
    "#nums = list(range(1,27))\n",
    "#res = {alph[i]: nums[i] for i in range(len(alph))} #make a reference dictionary\n",
    "\n",
    "## OR ##\n",
    "\n",
    "alpha = {a: i for i, a in enumerate(alph, start=1)} #make a reference dictionary -- this one prettier\n",
    "alpha"
   ]
  },
  {
   "cell_type": "code",
   "execution_count": 28,
   "metadata": {
    "ExecuteTime": {
     "end_time": "2021-05-04T01:52:55.331571Z",
     "start_time": "2021-05-04T01:52:55.326974Z"
    }
   },
   "outputs": [],
   "source": [
    "phrase = \"The sunset sets at twelve o' clock.\""
   ]
  },
  {
   "cell_type": "code",
   "execution_count": 29,
   "metadata": {
    "ExecuteTime": {
     "end_time": "2021-05-04T01:52:56.074349Z",
     "start_time": "2021-05-04T01:52:56.063437Z"
    }
   },
   "outputs": [
    {
     "data": {
      "text/plain": [
       "[20,\n",
       " 8,\n",
       " 5,\n",
       " 19,\n",
       " 21,\n",
       " 14,\n",
       " 19,\n",
       " 5,\n",
       " 20,\n",
       " 19,\n",
       " 5,\n",
       " 20,\n",
       " 19,\n",
       " 1,\n",
       " 20,\n",
       " 20,\n",
       " 23,\n",
       " 5,\n",
       " 12,\n",
       " 22,\n",
       " 5,\n",
       " 15,\n",
       " 3,\n",
       " 12,\n",
       " 15,\n",
       " 3,\n",
       " 11]"
      ]
     },
     "execution_count": 29,
     "metadata": {},
     "output_type": "execute_result"
    }
   ],
   "source": [
    "alpha = {a: i for i, a in enumerate(alph, start=1)} #make a reference dictionary -- this one prettier\n",
    "results = []\n",
    "\n",
    "for char in phrase.lower():\n",
    "    if char.isalpha():\n",
    "        results.append(alpha[char])\n",
    "        \n",
    "results"
   ]
  },
  {
   "cell_type": "code",
   "execution_count": 30,
   "metadata": {
    "ExecuteTime": {
     "end_time": "2021-05-04T01:52:56.767655Z",
     "start_time": "2021-05-04T01:52:56.759457Z"
    }
   },
   "outputs": [],
   "source": [
    "def alphabet_position(text):\n",
    "    alpha = {a: i for i, a in enumerate(alph, start=1)} #make a reference dictionary -- this one prettier\n",
    "    results = []\n",
    "    for char in text.lower():\n",
    "        if char.isalpha():\n",
    "            results.append(alpha[char])\n",
    "    return ' '.join(str(x) for x in results)"
   ]
  },
  {
   "cell_type": "code",
   "execution_count": 31,
   "metadata": {
    "ExecuteTime": {
     "end_time": "2021-05-04T01:52:57.381647Z",
     "start_time": "2021-05-04T01:52:57.369985Z"
    }
   },
   "outputs": [
    {
     "data": {
      "text/plain": [
       "'20 8 5 19 21 14 19 5 20 19 5 20 19 1 20 20 23 5 12 22 5 15 3 12 15 3 11'"
      ]
     },
     "execution_count": 31,
     "metadata": {},
     "output_type": "execute_result"
    }
   ],
   "source": [
    "alphabet_position(phrase)"
   ]
  },
  {
   "cell_type": "code",
   "execution_count": null,
   "metadata": {},
   "outputs": [],
   "source": []
  }
 ],
 "metadata": {
  "kernelspec": {
   "display_name": "Python 3",
   "language": "python",
   "name": "python3"
  },
  "language_info": {
   "codemirror_mode": {
    "name": "ipython",
    "version": 3
   },
   "file_extension": ".py",
   "mimetype": "text/x-python",
   "name": "python",
   "nbconvert_exporter": "python",
   "pygments_lexer": "ipython3",
   "version": "3.6.9"
  },
  "toc": {
   "base_numbering": 1,
   "nav_menu": {},
   "number_sections": true,
   "sideBar": true,
   "skip_h1_title": false,
   "title_cell": "Table of Contents",
   "title_sidebar": "Contents",
   "toc_cell": false,
   "toc_position": {},
   "toc_section_display": true,
   "toc_window_display": false
  }
 },
 "nbformat": 4,
 "nbformat_minor": 4
}
